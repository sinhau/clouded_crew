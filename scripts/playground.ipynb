{
 "cells": [
  {
   "cell_type": "code",
   "execution_count": 8,
   "metadata": {},
   "outputs": [],
   "source": [
    "import json\n",
    "import os\n",
    "from web3 import Web3"
   ]
  },
  {
   "cell_type": "code",
   "execution_count": 19,
   "metadata": {},
   "outputs": [],
   "source": [
    "metadata = []\n",
    "for i in range(3333):\n",
    "    with open(\n",
    "        os.path.join(\n",
    "            os.getenv(\"HOME\"), \"Downloads\", \"clouded_crew_metadata_revealed\", f\"{i+1}.json\"\n",
    "        ),\n",
    "        \"r\",\n",
    "    ) as f:\n",
    "        metadata.append(json.load(f))\n",
    "        metadata[i]['image'] = f\"https://gateway.pinata.cloud/ipfs/QmWs4kbDsPJbWeRgxNR43rwxXSAHRVaMSXSonaa2Vj2phx/{i+1}.png\"\n"
   ]
  },
  {
   "cell_type": "code",
   "execution_count": 22,
   "metadata": {},
   "outputs": [
    {
     "data": {
      "text/plain": [
       "{'name': 'Clouded Crew #3333',\n",
       " 'description': 'Clouded Crew is a collection of 3,333, 3D-rendered cloud PFP NFTs on the Ethereum blockchain.',\n",
       " 'image': 'https://gateway.pinata.cloud/ipfs/QmWs4kbDsPJbWeRgxNR43rwxXSAHRVaMSXSonaa2Vj2phx/3333.png',\n",
       " 'attributes': [{'trait_type': 'Background', 'value': 'RAINBOW'},\n",
       "  {'trait_type': 'Body', 'value': 'GOLDEN HOUR SUNSET'},\n",
       "  {'trait_type': 'Face', 'value': 'ANNOYED'},\n",
       "  {'trait_type': 'Clothing', 'value': 'PUFFER BLUE'},\n",
       "  {'trait_type': 'Eyewear', 'value': 'NONE'},\n",
       "  {'trait_type': 'Accessory', 'value': 'NONE'}]}"
      ]
     },
     "execution_count": 22,
     "metadata": {},
     "output_type": "execute_result"
    }
   ],
   "source": [
    "metadata[3332]"
   ]
  },
  {
   "cell_type": "code",
   "execution_count": 23,
   "metadata": {},
   "outputs": [],
   "source": [
    "metadata_hash = [Web3.solidityKeccak(['string'], [json.dumps(data)]).hex() for data in metadata]"
   ]
  },
  {
   "cell_type": "code",
   "execution_count": 24,
   "metadata": {},
   "outputs": [
    {
     "data": {
      "text/plain": [
       "'0xf7be2e1dcabf611b83404e57c13cc31947115973d6716ba6a6f688a7209c4931'"
      ]
     },
     "execution_count": 24,
     "metadata": {},
     "output_type": "execute_result"
    }
   ],
   "source": [
    "provenance_hash = Web3.solidityKeccak(['string']*len(metadata_hash), metadata_hash).hex()\n",
    "provenance_hash"
   ]
  },
  {
   "cell_type": "code",
   "execution_count": 25,
   "metadata": {},
   "outputs": [],
   "source": [
    "for idx, data in enumerate(metadata):\n",
    "    with open(os.path.join(os.getenv('HOME'), 'Downloads/clouded_crew_metadata_revealed', f'{idx+1}.json'), 'w') as f:\n",
    "        json.dump(data, f)"
   ]
  },
  {
   "cell_type": "code",
   "execution_count": 1,
   "metadata": {},
   "outputs": [],
   "source": [
    "with open(os.path.join(os.getenv('HOME'), \"Downloads\", \"whitelist.csv\"), \"r\") as f:\n",
    "    whitelist = f.read().splitlines()"
   ]
  },
  {
   "cell_type": "code",
   "execution_count": 2,
   "metadata": {},
   "outputs": [],
   "source": [
    "whitelist.append(\"0xdd175a204142040850211B529Dcb9af6eE743e1B\")"
   ]
  },
  {
   "cell_type": "code",
   "execution_count": 6,
   "metadata": {},
   "outputs": [
    {
     "data": {
      "text/plain": [
       "333"
      ]
     },
     "execution_count": 6,
     "metadata": {},
     "output_type": "execute_result"
    }
   ],
   "source": [
    "len(whitelist)"
   ]
  },
  {
   "cell_type": "code",
   "execution_count": 9,
   "metadata": {},
   "outputs": [],
   "source": [
    "# Dump whitelist as json\n",
    "with open(os.path.join(os.getenv('HOME'), \"Downloads\", \"whitelist.json\"), \"w\") as f:\n",
    "    json.dump(whitelist, f)"
   ]
  },
  {
   "cell_type": "code",
   "execution_count": null,
   "metadata": {},
   "outputs": [],
   "source": []
  }
 ],
 "metadata": {
  "interpreter": {
   "hash": "b0fa6594d8f4cbf19f97940f81e996739fb7646882a419484c72d19e05852a7e"
  },
  "kernelspec": {
   "display_name": "Python 3.9.10 64-bit",
   "language": "python",
   "name": "python3"
  },
  "language_info": {
   "codemirror_mode": {
    "name": "ipython",
    "version": 3
   },
   "file_extension": ".py",
   "mimetype": "text/x-python",
   "name": "python",
   "nbconvert_exporter": "python",
   "pygments_lexer": "ipython3",
   "version": "3.9.12"
  },
  "orig_nbformat": 4
 },
 "nbformat": 4,
 "nbformat_minor": 2
}
