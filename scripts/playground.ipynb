{
 "cells": [
  {
   "cell_type": "code",
   "execution_count": 45,
   "metadata": {},
   "outputs": [],
   "source": [
    "import json\n",
    "import os\n",
    "from web3 import Web3"
   ]
  },
  {
   "cell_type": "code",
   "execution_count": 46,
   "metadata": {},
   "outputs": [],
   "source": [
    "with open(os.path.join(os.getenv('HOME'), 'Downloads/json', '_metadata.json')) as f:\n",
    "    metadata = json.load(f)"
   ]
  },
  {
   "cell_type": "code",
   "execution_count": 47,
   "metadata": {},
   "outputs": [
    {
     "data": {
      "text/plain": [
       "{'name': 'Clouded Crew #1',\n",
       " 'description': 'Clouded Crew is a collection of 3,333, 3D-rendered cloud PFP NFTs on the Ethereum blockchain.',\n",
       " 'image': 'ipfs://QmcCM6pgi6Q9iLF2xsoB3UdNCy8EsT7sUurcCwWMMKQ4yh/1.png',\n",
       " 'edition': 1,\n",
       " 'attributes': [{'trait_type': 'Background', 'value': 'YELLOW  SKY'},\n",
       "  {'trait_type': 'Body', 'value': 'GRAY'},\n",
       "  {'trait_type': 'Face', 'value': 'SAD'},\n",
       "  {'trait_type': 'Clothing', 'value': 'PUFFER ORANGE'},\n",
       "  {'trait_type': 'Eyewear', 'value': 'RIMMED GLASSES AQUA'},\n",
       "  {'trait_type': 'Accessory', 'value': 'HAIR BOW BLUE'}]}"
      ]
     },
     "execution_count": 47,
     "metadata": {},
     "output_type": "execute_result"
    }
   ],
   "source": [
    "for data in metadata:\n",
    "    del data['edition']\n",
    "    del data['attributes']\n",
    "    data['image'] = 'ipfs://QmfMXMa4xToJa7dmLAzEqWvN5Fc9VfLcWkUYXquz9qf4ew'"
   ]
  },
  {
   "cell_type": "code",
   "execution_count": 9,
   "metadata": {},
   "outputs": [],
   "source": [
    "image_ipfs_hash = \"QmWs4kbDsPJbWeRgxNR43rwxXSAHRVaMSXSonaa2Vj2phx\""
   ]
  },
  {
   "cell_type": "code",
   "execution_count": 12,
   "metadata": {},
   "outputs": [],
   "source": [
    "for idx, data in enumerate(metadata):\n",
    "    data['image'] = f\"ipfs://{image_ipfs_hash}/{idx+1}.png\""
   ]
  },
  {
   "cell_type": "code",
   "execution_count": 16,
   "metadata": {},
   "outputs": [],
   "source": [
    "for data in metadata:\n",
    "    del data['edition']"
   ]
  },
  {
   "cell_type": "code",
   "execution_count": 22,
   "metadata": {},
   "outputs": [
    {
     "data": {
      "text/plain": [
       "'{\"name\": \"Clouded Crew #2\", \"description\": \"Clouded Crew is a collection of 3,333, 3D-rendered cloud PFP NFTs on the Ethereum blockchain.\", \"image\": \"ipfs://QmWs4kbDsPJbWeRgxNR43rwxXSAHRVaMSXSonaa2Vj2phx/2.png\", \"attributes\": [{\"trait_type\": \"Background\", \"value\": \"PLANES\"}, {\"trait_type\": \"Body\", \"value\": \"WHITE\"}, {\"trait_type\": \"Face\", \"value\": \"SAD\"}, {\"trait_type\": \"Clothing\", \"value\": \"PUFFER BLUE\"}, {\"trait_type\": \"Eyewear\", \"value\": \"NONE\"}, {\"trait_type\": \"Accessory\", \"value\": \"NONE\"}]}'"
      ]
     },
     "execution_count": 22,
     "metadata": {},
     "output_type": "execute_result"
    }
   ],
   "source": [
    "json.dumps(metadata[1])"
   ]
  },
  {
   "cell_type": "code",
   "execution_count": 39,
   "metadata": {},
   "outputs": [],
   "source": [
    "metadata_hash = [Web3.solidityKeccak(['string'], [json.dumps(data)]).hex() for data in metadata]"
   ]
  },
  {
   "cell_type": "code",
   "execution_count": null,
   "metadata": {},
   "outputs": [],
   "source": []
  },
  {
   "cell_type": "code",
   "execution_count": 43,
   "metadata": {},
   "outputs": [
    {
     "data": {
      "text/plain": [
       "'0x75d386a83afa5478f50744c2c7f7c96bd431c294f882e5b02cd2653ba33e106d'"
      ]
     },
     "execution_count": 43,
     "metadata": {},
     "output_type": "execute_result"
    }
   ],
   "source": [
    "provenance_hash = Web3.solidityKeccak(['string']*len(metadata_hash), metadata_hash).hex()\n",
    "provenance_hash"
   ]
  },
  {
   "cell_type": "code",
   "execution_count": 44,
   "metadata": {},
   "outputs": [],
   "source": [
    "for idx, data in enumerate(metadata):\n",
    "    with open(os.path.join(os.getenv('HOME'), 'Downloads/json', f'{idx+1}.json'), 'w') as f:\n",
    "        json.dump(data, f)"
   ]
  },
  {
   "cell_type": "code",
   "execution_count": null,
   "metadata": {},
   "outputs": [],
   "source": []
  }
 ],
 "metadata": {
  "interpreter": {
   "hash": "b0fa6594d8f4cbf19f97940f81e996739fb7646882a419484c72d19e05852a7e"
  },
  "kernelspec": {
   "display_name": "Python 3.9.10 64-bit",
   "language": "python",
   "name": "python3"
  },
  "language_info": {
   "codemirror_mode": {
    "name": "ipython",
    "version": 3
   },
   "file_extension": ".py",
   "mimetype": "text/x-python",
   "name": "python",
   "nbconvert_exporter": "python",
   "pygments_lexer": "ipython3",
   "version": "3.9.10"
  },
  "orig_nbformat": 4
 },
 "nbformat": 4,
 "nbformat_minor": 2
}
